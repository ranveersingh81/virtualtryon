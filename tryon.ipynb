{
 "cells": [
  {
   "cell_type": "code",
   "execution_count": 1,
   "id": "a5b6da61-9590-4c66-9a5d-590392c984c7",
   "metadata": {
    "tags": []
   },
   "outputs": [],
   "source": [
    "# python ./DensePose/apply_net.py show ./DensePose/configs/densepose_rcnn_R_50_FPN_s1x.yaml  \\\n",
    "# https://dl.fbaipublicfiles.com/densepose/densepose_rcnn_R_50_FPN_s1x/165712039/model_final_162be9.pkl \\\n",
    "# /home/jupyter/try_on/person.jpeg dp_contour,dp_u,dp_v,bbox -v"
   ]
  },
  {
   "cell_type": "code",
   "execution_count": 2,
   "id": "81765622-4ce7-4749-b5f2-11564824f27a",
   "metadata": {
    "tags": []
   },
   "outputs": [
    {
     "name": "stderr",
     "output_type": "stream",
     "text": [
      "/opt/conda/envs/tryon/lib/python3.8/site-packages/tqdm/auto.py:21: TqdmWarning: IProgress not found. Please update jupyter and ipywidgets. See https://ipywidgets.readthedocs.io/en/stable/user_install.html\n",
      "  from .autonotebook import tqdm as notebook_tqdm\n"
     ]
    }
   ],
   "source": [
    "\n",
    "%matplotlib inline\n",
    "import matplotlib.pyplot as plt\n",
    "\n",
    "from PIL import Image\n",
    "import numpy as np\n",
    "import cv2\n",
    "from PIL import Image\n",
    "\n",
    "import preprocess_image\n"
   ]
  },
  {
   "cell_type": "code",
   "execution_count": 3,
   "id": "5da66a2d-0b55-4bca-a148-362cb83f6f11",
   "metadata": {
    "tags": []
   },
   "outputs": [
    {
     "name": "stderr",
     "output_type": "stream",
     "text": [
      "/opt/conda/envs/tryon/lib/python3.8/site-packages/transformers/models/segformer/image_processing_segformer.py:103: FutureWarning: The `reduce_labels` parameter is deprecated and will be removed in a future version. Please use `do_reduce_labels` instead.\n",
      "  warnings.warn(\n"
     ]
    }
   ],
   "source": [
    "preprocess_obj = preprocess_image.preprocess_image()"
   ]
  },
  {
   "cell_type": "code",
   "execution_count": 4,
   "id": "28fa0e01-f585-4671-b7d8-9c8a986b0f85",
   "metadata": {
    "tags": []
   },
   "outputs": [],
   "source": [
    "\n",
    "pil_image = Image.open(\"/home/jupyter/try_on/person.jpeg\")\n",
    "image_array = np.array(pil_image)\n",
    "img = cv2.cvtColor(image_array, cv2.COLOR_RGB2BGR)"
   ]
  },
  {
   "cell_type": "code",
   "execution_count": 5,
   "id": "276bb1f0-d69a-42b3-85ff-dd4c6b0bbf43",
   "metadata": {
    "tags": []
   },
   "outputs": [
    {
     "name": "stderr",
     "output_type": "stream",
     "text": [
      "/opt/conda/envs/tryon/lib/python3.8/site-packages/torch/functional.py:504: UserWarning: torch.meshgrid: in an upcoming release, it will be required to pass the indexing argument. (Triggered internally at /opt/conda/conda-bld/pytorch_1682343998658/work/aten/src/ATen/native/TensorShape.cpp:3483.)\n",
      "  return _VF.meshgrid(tensors, **kwargs)  # type: ignore[attr-defined]\n",
      "/home/jupyter/try_on/./DensePose/densepose/vis/densepose_results.py:135: UserWarning: The following kwargs were not used by contour: 'cfg', 'texture_atlas', 'texture_atlases_dict'\n",
      "  plt.contour(u, self.levels, extent=extent, **self.plot_args)\n",
      "/home/jupyter/try_on/./DensePose/densepose/vis/densepose_results.py:136: UserWarning: The following kwargs were not used by contour: 'cfg', 'texture_atlas', 'texture_atlases_dict'\n",
      "  plt.contour(v, self.levels, extent=extent, **self.plot_args)\n"
     ]
    }
   ],
   "source": [
    "densepose_out = preprocess_obj.get_densepose_prediction(img)\n",
    "pred_seg = preprocess_obj.get_seg_prediction(pil_image)"
   ]
  },
  {
   "cell_type": "code",
   "execution_count": 6,
   "id": "982dbe83-ffa9-4ba8-906d-ab38d7750a9d",
   "metadata": {
    "tags": []
   },
   "outputs": [],
   "source": [
    "plt.imshow(densepose_out)\n",
    "plt.savefig('person_densepose.png')\n",
    "plt.show()"
   ]
  },
  {
   "cell_type": "code",
   "execution_count": 7,
   "id": "eb09350d-a208-4971-9ad3-89483d1b50d5",
   "metadata": {
    "tags": []
   },
   "outputs": [],
   "source": [
    "# tensor_array = np.array(pred_seg)\n",
    "# plt.imshow(tensor_array)\n",
    "# plt.savefig('person_seg.png')\n",
    "# plt.show()"
   ]
  }
 ],
 "metadata": {
  "environment": {
   "kernel": "tryon",
   "name": "workbench-notebooks.m119",
   "type": "gcloud",
   "uri": "us-docker.pkg.dev/deeplearning-platform-release/gcr.io/workbench-notebooks:m119"
  },
  "kernelspec": {
   "display_name": "tryon (Local)",
   "language": "python",
   "name": "tryon"
  },
  "language_info": {
   "codemirror_mode": {
    "name": "ipython",
    "version": 3
   },
   "file_extension": ".py",
   "mimetype": "text/x-python",
   "name": "python",
   "nbconvert_exporter": "python",
   "pygments_lexer": "ipython3",
   "version": "3.8.19"
  }
 },
 "nbformat": 4,
 "nbformat_minor": 5
}
