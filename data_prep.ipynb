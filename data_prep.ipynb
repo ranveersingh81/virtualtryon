{
 "cells": [
  {
   "cell_type": "code",
   "execution_count": 1,
   "id": "1741783c-90ed-401e-9c13-4deb07f14acc",
   "metadata": {
    "tags": []
   },
   "outputs": [
    {
     "name": "stdout",
     "output_type": "stream",
     "text": [
      "--2024-04-05 10:17:43--  https://www.dropbox.com/s/10bfat0kg4si1bu/zalando-hd-resized.zip?dl=1\n",
      "Resolving www.dropbox.com (www.dropbox.com)... 162.125.1.18, 2620:100:6016:18::a27d:112\n",
      "Connecting to www.dropbox.com (www.dropbox.com)|162.125.1.18|:443... connected.\n",
      "HTTP request sent, awaiting response... 302 Found\n",
      "Location: /s/dl/10bfat0kg4si1bu/zalando-hd-resized.zip [following]\n",
      "--2024-04-05 10:17:43--  https://www.dropbox.com/s/dl/10bfat0kg4si1bu/zalando-hd-resized.zip\n",
      "Reusing existing connection to www.dropbox.com:443.\n",
      "HTTP request sent, awaiting response... 302 Found\n",
      "Location: https://ucde302f481f1787e25c0f21cec8.dl.dropboxusercontent.com/cd/0/get/CQdSmZ5WgIBdRa2G0er5jy3rcEgHgHn9LSWUeLVZ6yCxYl-yH0tY4e0IUgNlu085ufI0mg9A6gmXYdlYqqaxz_4238cZLTP3bUYGekIP158EWWmwOuPVmNfHptxCkYtdobqXJyq_rH-LmGEnd6QhRaBy/file?dl=1# [following]\n",
      "--2024-04-05 10:17:43--  https://ucde302f481f1787e25c0f21cec8.dl.dropboxusercontent.com/cd/0/get/CQdSmZ5WgIBdRa2G0er5jy3rcEgHgHn9LSWUeLVZ6yCxYl-yH0tY4e0IUgNlu085ufI0mg9A6gmXYdlYqqaxz_4238cZLTP3bUYGekIP158EWWmwOuPVmNfHptxCkYtdobqXJyq_rH-LmGEnd6QhRaBy/file?dl=1\n",
      "Resolving ucde302f481f1787e25c0f21cec8.dl.dropboxusercontent.com (ucde302f481f1787e25c0f21cec8.dl.dropboxusercontent.com)... 162.125.1.15, 2620:100:6016:15::a27d:10f\n",
      "Connecting to ucde302f481f1787e25c0f21cec8.dl.dropboxusercontent.com (ucde302f481f1787e25c0f21cec8.dl.dropboxusercontent.com)|162.125.1.15|:443... connected.\n",
      "HTTP request sent, awaiting response... 200 OK\n",
      "Length: 4867271627 (4.5G) [application/binary]\n",
      "Saving to: ‘data/zalando-hd-resized.zip’\n",
      "\n",
      "data/zalando-hd-res 100%[===================>]   4.53G   117MB/s    in 37s     \n",
      "\n",
      "2024-04-05 10:18:21 (125 MB/s) - ‘data/zalando-hd-resized.zip’ saved [4867271627/4867271627]\n",
      "\n"
     ]
    }
   ],
   "source": [
    "!wget -O data/zalando-hd-resized.zip https://www.dropbox.com/s/10bfat0kg4si1bu/zalando-hd-resized.zip?dl=1\n",
    "\n",
    "# Unzip the downloaded file in the 'data' directory\n",
    "!unzip -qq data/zalando-hd-resized.zip -d data/"
   ]
  },
  {
   "cell_type": "code",
   "execution_count": 20,
   "id": "45c76892-19be-45cf-89d5-4ee901ff4407",
   "metadata": {},
   "outputs": [
    {
     "name": "stderr",
     "output_type": "stream",
     "text": [
      "Downloading...\n",
      "From (original): https://drive.google.com/uc?id=1rvow8jStPt8t2prDcSRlnf8yzXhrYeGo\n",
      "From (redirected): https://drive.google.com/uc?id=1rvow8jStPt8t2prDcSRlnf8yzXhrYeGo&confirm=t&uuid=7bb8068b-eb79-4735-bf58-277a843eee1e\n",
      "To: /home/jupyter/try_on/data/vgg19_conv.pth\n",
      "100%|██████████| 160M/160M [00:01<00:00, 90.1MB/s] \n"
     ]
    },
    {
     "data": {
      "text/plain": [
       "'./data/vgg19_conv.pth'"
      ]
     },
     "execution_count": 20,
     "metadata": {},
     "output_type": "execute_result"
    }
   ],
   "source": [
    "import gdown\n",
    "gdown.download(\"https://drive.google.com/uc?id=1rvow8jStPt8t2prDcSRlnf8yzXhrYeGo\", './data/vgg19_conv.pth', quiet=False)\n"
   ]
  },
  {
   "cell_type": "code",
   "execution_count": 29,
   "id": "f26f255a-76a5-46f5-9a1e-bdbc7c307416",
   "metadata": {
    "tags": []
   },
   "outputs": [
    {
     "name": "stderr",
     "output_type": "stream",
     "text": [
      "Downloading...\n",
      "From (original): https://drive.google.com/uc?id=1eoUUnu3HjX8ntiN9Hr1Be43IH-ZTsJb-\n",
      "From (redirected): https://drive.google.com/uc?id=1eoUUnu3HjX8ntiN9Hr1Be43IH-ZTsJb-&confirm=t&uuid=30b7a6ea-6f9e-43b3-8f3b-ea43f6114bb4\n",
      "To: /home/jupyter/try_on/data/cloth-warp-mask-train.tar.gz\n",
      "100%|██████████| 78.5M/78.5M [00:00<00:00, 173MB/s]\n",
      "Downloading...\n",
      "From (original): https://drive.google.com/uc?id=1I6drHpQwHQuedP9XLf5KFWqT3HCw9ZRh\n",
      "From (redirected): https://drive.google.com/uc?id=1I6drHpQwHQuedP9XLf5KFWqT3HCw9ZRh&confirm=t&uuid=c1c694ed-279c-4b33-863d-cc823f12dc74\n",
      "To: /home/jupyter/try_on/data/cloth-warp-train.tar.gz\n",
      "100%|██████████| 189M/189M [00:01<00:00, 147MB/s]  \n",
      "Downloading...\n",
      "From: https://drive.google.com/uc?id=1wHHRes4tCA3Xf7FMewTnFa1rnMtnbC96\n",
      "To: /home/jupyter/try_on/data/cloth-warp-mask-test.tar.gz\n",
      "100%|██████████| 13.8M/13.8M [00:00<00:00, 155MB/s]\n",
      "Downloading...\n",
      "From (original): https://drive.google.com/uc?id=1Z1zDCqMijc8CbnEbAM52e_UQKWynlN4V\n",
      "From (redirected): https://drive.google.com/uc?id=1Z1zDCqMijc8CbnEbAM52e_UQKWynlN4V&confirm=t&uuid=01f671a2-c4e6-49f9-b9e6-f1cbbfb780dc\n",
      "To: /home/jupyter/try_on/data/cloth-warp-test.tar.gz\n",
      "100%|██████████| 32.7M/32.7M [00:00<00:00, 142MB/s]\n",
      "Downloading...\n",
      "From: https://drive.google.com/uc?id=146fmnJZRp4BYApnjD-vSWP_PmX1rp6Kh\n",
      "To: /home/jupyter/try_on/data/unpaired-cloth-warp-mask.tar.gz\n",
      "100%|██████████| 13.8M/13.8M [00:00<00:00, 116MB/s] \n",
      "Downloading...\n",
      "From (original): https://drive.google.com/uc?id=1TeozekPqUVqyTHZLGtZeaFuDrp55vJHu\n",
      "From (redirected): https://drive.google.com/uc?id=1TeozekPqUVqyTHZLGtZeaFuDrp55vJHu&confirm=t&uuid=3f5008b6-d5e2-417a-bc88-e811164229a1\n",
      "To: /home/jupyter/try_on/data/unpaired-cloth-warp.tar.gz\n",
      "100%|██████████| 32.4M/32.4M [00:00<00:00, 125MB/s] \n"
     ]
    },
    {
     "data": {
      "text/plain": [
       "'./data/unpaired-cloth-warp.tar.gz'"
      ]
     },
     "execution_count": 29,
     "metadata": {},
     "output_type": "execute_result"
    }
   ],
   "source": [
    "import gdown\n",
    "\n",
    "gdown.download(\"https://drive.google.com/uc?id=1eoUUnu3HjX8ntiN9Hr1Be43IH-ZTsJb-\", \"./data/cloth-warp-mask-train.tar.gz\", quiet=False)\n",
    "gdown.download(\"https://drive.google.com/uc?id=1I6drHpQwHQuedP9XLf5KFWqT3HCw9ZRh\", \"./data/cloth-warp-train.tar.gz\", quiet=False)\n",
    "gdown.download(\"https://drive.google.com/uc?id=1wHHRes4tCA3Xf7FMewTnFa1rnMtnbC96\", \"./data/cloth-warp-mask-test.tar.gz\", quiet=False)\n",
    "gdown.download(\"https://drive.google.com/uc?id=1Z1zDCqMijc8CbnEbAM52e_UQKWynlN4V\", \"./data/cloth-warp-test.tar.gz\", quiet=False)\n",
    "gdown.download(\"https://drive.google.com/uc?id=146fmnJZRp4BYApnjD-vSWP_PmX1rp6Kh\", \"./data/unpaired-cloth-warp-mask.tar.gz\", quiet=False)\n",
    "gdown.download(\"https://drive.google.com/uc?id=1TeozekPqUVqyTHZLGtZeaFuDrp55vJHu\", \"./data/unpaired-cloth-warp.tar.gz\", quiet=False)"
   ]
  },
  {
   "cell_type": "code",
   "execution_count": 30,
   "id": "66921d26-a3f6-4005-9201-d9e3cb83c0fa",
   "metadata": {},
   "outputs": [],
   "source": [
    "!tar -xf ./data/cloth-warp-mask-train.tar.gz  -C data/train/\n",
    "!tar -xf ./data/cloth-warp-train.tar.gz -C data/train/\n",
    "!tar -xf ./data/cloth-warp-mask-test.tar.gz -C data/test/\n",
    "!tar -xf ./data/cloth-warp-test.tar.gz -C data/test/\n",
    "!tar -xf ./data/unpaired-cloth-warp-mask.tar.gz -C data/test/\n",
    "!tar -xf ./data/unpaired-cloth-warp.tar.gz -C data/test/\n",
    "\n",
    "\n"
   ]
  },
  {
   "cell_type": "code",
   "execution_count": 27,
   "id": "d4db3281-9005-4746-be52-e157d330864f",
   "metadata": {},
   "outputs": [
    {
     "name": "stdout",
     "output_type": "stream",
     "text": [
      "removed './data/zalando-hd-resized.zip'\n",
      "removed './data/1.tar.gz'\n",
      "removed './data/2.tar.gz'\n",
      "removed './data/3.tar.gz'\n",
      "removed './data/4.tar.gz'\n",
      "removed './data/5.tar.gz'\n",
      "removed './data/6.tar.gz'\n"
     ]
    }
   ],
   "source": [
    "! sudo rm -rv ./data/*.zip ./data/*.gz "
   ]
  },
  {
   "cell_type": "code",
   "execution_count": 32,
   "id": "5fc5cc2f-d634-4671-b927-7916959db805",
   "metadata": {},
   "outputs": [],
   "source": [
    "! cp ./data/vgg19_conv.pth ./DCI-VTON-Virtual-Try-On/models/vgg/"
   ]
  },
  {
   "cell_type": "code",
   "execution_count": 33,
   "id": "88596991-18ee-4012-9003-e892c98f51f1",
   "metadata": {},
   "outputs": [
    {
     "name": "stderr",
     "output_type": "stream",
     "text": [
      "Downloading...\n",
      "From (original): https://drive.google.com/uc?id=1q8udsotB-JfroOmXI1P28m5ykEbrmh4Y\n",
      "From (redirected): https://drive.google.com/uc?id=1q8udsotB-JfroOmXI1P28m5ykEbrmh4Y&confirm=t&uuid=dd95a988-a65c-460b-b59e-d0d3ba537beb\n",
      "To: /home/jupyter/try_on/data/viton512.ckpt\n",
      "100%|██████████| 5.32G/5.32G [00:57<00:00, 92.8MB/s]\n",
      "Downloading...\n",
      "From (original): https://drive.google.com/uc?id=1EY52bIpxMdf7YBRhkqaIx7aYx1F87E8n\n",
      "From (redirected): https://drive.google.com/uc?id=1EY52bIpxMdf7YBRhkqaIx7aYx1F87E8n&confirm=t&uuid=16434a5b-19c7-4e01-8589-67f4e922cba1\n",
      "To: /home/jupyter/try_on/data/warp_viton.pth\n",
      "100%|██████████| 117M/117M [00:01<00:00, 76.5MB/s] \n",
      "Downloading...\n",
      "From (original): https://drive.google.com/uc?id=177zXMarfVU6K_F-vtuC5fawNKThOu3ai\n",
      "From (redirected): https://drive.google.com/uc?id=177zXMarfVU6K_F-vtuC5fawNKThOu3ai&confirm=t&uuid=61d64f26-7e9e-4d4a-b5a1-3dcfbc8adda5\n",
      "To: /home/jupyter/try_on/data/viton512_v2.ckpt\n",
      "100%|██████████| 5.32G/5.32G [00:49<00:00, 107MB/s] \n"
     ]
    },
    {
     "data": {
      "text/plain": [
       "'./data/viton512_v2.ckpt'"
      ]
     },
     "execution_count": 33,
     "metadata": {},
     "output_type": "execute_result"
    }
   ],
   "source": [
    "gdown.download(\"https://drive.google.com/uc?id=1q8udsotB-JfroOmXI1P28m5ykEbrmh4Y\", \"./data/viton512.ckpt\", quiet=False)\n",
    "gdown.download(\"https://drive.google.com/uc?id=1EY52bIpxMdf7YBRhkqaIx7aYx1F87E8n\", \"./data/warp_viton.pth\", quiet=False)\n",
    "gdown.download(\"https://drive.google.com/uc?id=177zXMarfVU6K_F-vtuC5fawNKThOu3ai\", \"./data/viton512_v2.ckpt\", quiet=False)\n"
   ]
  },
  {
   "cell_type": "code",
   "execution_count": 35,
   "id": "08351ee7-6cf6-4f03-8a6a-e905f05df1b5",
   "metadata": {},
   "outputs": [],
   "source": [
    "! cp ./data/warp_viton.pth ./PF-AFN/PF-AFN_test/checkpoints/\n"
   ]
  },
  {
   "cell_type": "code",
   "execution_count": null,
   "id": "67cc9d06-0513-4f17-8e03-0ed942b5141c",
   "metadata": {},
   "outputs": [],
   "source": []
  },
  {
   "cell_type": "code",
   "execution_count": null,
   "id": "c0cf2581-2f0b-42ac-a7bb-924684b87e71",
   "metadata": {},
   "outputs": [],
   "source": [
    "\n",
    "\n",
    "python test.py --plms --gpu_id 0 --ddim_steps 100 --outdir results/viton --config configs/viton512.yaml --ckpt /home/jupyter/try_on/data/viton512.ckpt --dataroot /home/jupyter/try_on/data/ --n_samples 2 --seed 23 --scale 1 --H 512 --W 512 --unpaired"
   ]
  }
 ],
 "metadata": {
  "environment": {
   "kernel": "python38_new",
   "name": "pytorch-gpu.1-13.m108",
   "type": "gcloud",
   "uri": "gcr.io/deeplearning-platform-release/pytorch-gpu.1-13:m108"
  },
  "kernelspec": {
   "display_name": "python38_new",
   "language": "python",
   "name": "python38_new"
  },
  "language_info": {
   "codemirror_mode": {
    "name": "ipython",
    "version": 3
   },
   "file_extension": ".py",
   "mimetype": "text/x-python",
   "name": "python",
   "nbconvert_exporter": "python",
   "pygments_lexer": "ipython3",
   "version": "3.8.16"
  }
 },
 "nbformat": 4,
 "nbformat_minor": 5
}
